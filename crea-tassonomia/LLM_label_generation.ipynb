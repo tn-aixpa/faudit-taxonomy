{
 "cells": [
  {
   "cell_type": "code",
   "execution_count": null,
   "id": "fb285488",
   "metadata": {},
   "outputs": [],
   "source": [
    "import pandas as pd\n",
    "import json\n",
    "from nltk.tokenize import word_tokenize\n",
    "import re\n",
    "import cohere\n",
    "import time"
   ]
  },
  {
   "cell_type": "code",
   "execution_count": null,
   "id": "41627727",
   "metadata": {},
   "outputs": [],
   "source": [
    "# =============================================================================\n",
    "# SEZIONE 1: Caricamento topic representations\n",
    "# -----------------------------------------------------------------------------\n",
    "\n",
    "df = pd.read_csv(\"./Results/topics_overview.tsv\", sep=\"\\t\") \n"
   ]
  },
  {
   "cell_type": "code",
   "execution_count": null,
   "id": "2fbcaea3",
   "metadata": {},
   "outputs": [],
   "source": [
    "# =============================================================================\n",
    "# SEZIONE 2: Generazione etichette dei topic con LLM (Cohere)\n",
    "# -----------------------------------------------------------------------------\n",
    "# Questa sezione del notebook:\n",
    "# 1) Inizializza il client Cohere con la propria API key.\n",
    "# 2) Definisce un messaggio di sistema che istruisce il modello a produrre\n",
    "#    un’etichetta breve (3–4 parole), in italiano, senza formattazioni o spiegazioni.\n",
    "# 3) Scorre tutte le righe del DataFrame `df` ed estrae, per ciascuna riga,\n",
    "#    le parole rappresentative del topic dalla colonna `Representation`.\n",
    "# 4) Costruisce il prompt utente (“Words: ...\\nLabel:”) e invia la richiesta\n",
    "#    al modello `command-a-03-2025` tramite `co.chat(...)`.\n",
    "# 5) Legge la risposta del modello, stampa la label e la aggiunge alla lista `labels`\n",
    "#    (eventualmente da assegnare poi a `df['Label']`).\n",
    "# 6) Inserisce una pausa di 60 secondi ogni 10 richieste (`time.sleep(60)`)\n",
    "#    per rispettare i limiti di frequenza dell’API (rate limiting).\n",
    "# =============================================================================\n",
    "\n",
    "\n",
    "co = cohere.ClientV2(api_key=\"\") # inserire la propria API key di cohere qui, vedi https://cohere.com/ (API gratuita)\n",
    "\n",
    "# prompt da passare all'LLM. In inglese per cohere perchè il modello funziona meglio in inglese, ma si può modificare il prompt a piacere (anche in italiano)\n",
    "system_message = f\"\"\"We perform topic modelling on a set of actions that an italian public administration might want to do.  \n",
    "        The following words are all representative of the actions grouped in the same topic, the words are in decrescent order of relevance.\n",
    "        You should find a label that describes the type of actions that this topic represents, in a short label (3 or 4 words max). Prefer substantives.\n",
    "        Try to be very specific in your label. Only return one potential name in Italian. Output only the label. \n",
    "        Do not repeat the prompt. Do not use boldface. Do not add example or exaplanations. Only the label\\n\"\"\"\n",
    "\n",
    "index = 0 \n",
    "labels = []\n",
    "for i in range(len(df)):\n",
    "    index = index + 1\n",
    "    words = df['Representation'].iloc[i]\n",
    "    prompt = f\"Words: {words}\\nLabel:\"\n",
    "    res = co.chat(\n",
    "        model=\"command-a-03-2025\",\n",
    "        messages=[\n",
    "            {\"role\": \"system\", \"content\": system_message},\n",
    "            {\"role\": \"user\", \"content\": prompt},  \n",
    "\n",
    "        ],\n",
    "    )\n",
    "    print(res.message.content[0].text)\n",
    "    labels.append(res.message.content[0].text)\n",
    "\n",
    "    if index %10==0: # ogni 10 richieste, pausa di 60 secondi per rispettare i limiti di frequenza dell'API\n",
    "        time.sleep(60)\n"
   ]
  },
  {
   "cell_type": "code",
   "execution_count": null,
   "id": "0105a354",
   "metadata": {},
   "outputs": [],
   "source": [
    "# =============================================================================\n",
    "# SEZIONE 3: Salvataggio risultati\n",
    "# -----------------------------------------------------------------------------\n",
    "# Questa sezione del notebook:\n",
    "# 1) Aggiunge la colonna label al dataframe dei topic.\n",
    "# 2) Esporta il dataframe aggiornato in un file tsv.\n",
    "# =============================================================================\n",
    "\n",
    "df['Label'] = labels\n",
    "df.to_csv(\"./Results/topics_overview.tsv\", sep=\"\\t\", index=False)"
   ]
  }
 ],
 "metadata": {
  "kernelspec": {
   "display_name": "env_aixpa (3.12.11)",
   "language": "python",
   "name": "python3"
  },
  "language_info": {
   "codemirror_mode": {
    "name": "ipython",
    "version": 3
   },
   "file_extension": ".py",
   "mimetype": "text/x-python",
   "name": "python",
   "nbconvert_exporter": "python",
   "pygments_lexer": "ipython3",
   "version": "3.12.11"
  }
 },
 "nbformat": 4,
 "nbformat_minor": 5
}
