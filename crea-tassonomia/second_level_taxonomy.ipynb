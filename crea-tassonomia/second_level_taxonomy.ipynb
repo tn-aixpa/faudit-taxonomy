{
 "cells": [
  {
   "cell_type": "code",
   "execution_count": 1,
   "id": "9fdd79a7",
   "metadata": {},
   "outputs": [
    {
     "name": "stderr",
     "output_type": "stream",
     "text": [
      "/media/4TB/elisa/AIxPA/env_aixpa/lib/python3.12/site-packages/tqdm/auto.py:21: TqdmWarning: IProgress not found. Please update jupyter and ipywidgets. See https://ipywidgets.readthedocs.io/en/stable/user_install.html\n",
      "  from .autonotebook import tqdm as notebook_tqdm\n"
     ]
    }
   ],
   "source": [
    "\n",
    "import pandas as pd\n",
    "import numpy as np\n",
    "from bertopic import BERTopic\n",
    "from nltk.corpus import stopwords\n",
    "from nltk.tokenize import word_tokenize\n",
    "import nltk\n",
    "import os\n",
    "from collections import defaultdict\n",
    "import cohere\n",
    "import time"
   ]
  },
  {
   "cell_type": "code",
   "execution_count": 2,
   "id": "586676f5",
   "metadata": {},
   "outputs": [],
   "source": [
    "# load the model\n",
    "mydir = './Results/'\n",
    "model_folder =  \"BERTopicModel/\"\n",
    "topic_model = BERTopic.load(mydir + model_folder)"
   ]
  },
  {
   "cell_type": "code",
   "execution_count": 3,
   "id": "388ac674",
   "metadata": {},
   "outputs": [
    {
     "name": "stdout",
     "output_type": "stream",
     "text": [
      "Totale documenti (titolo azione + descrizione) utilizzati per l'analisi: 17024\n"
     ]
    }
   ],
   "source": [
    "# load data and repeat the same processing used when generating the model (see script 'modelgeneration.ipynb')\n",
    "\n",
    "df = pd.read_csv(\"./FT/azioni.csv\") # aggiustare il percorso del file CSV se necessario\n",
    "\n",
    "df_filtered = df.dropna(subset=['descrizione']).copy()\n",
    "df_filtered['text'] = (\n",
    "    'Titolo: '\n",
    "    + df_filtered['titolo'].fillna('').astype(str).str.strip()\n",
    "    + '; Descrizione: '\n",
    "    + df_filtered['descrizione'].astype(str).str.strip()\n",
    ")\n",
    "\n",
    "print(\"Totale documenti (titolo azione + descrizione) utilizzati per l'analisi:\", len(df_filtered))\n",
    "nltk.download('stopwords', quiet=True)\n",
    "\n",
    "STOP_WORDS = set(stopwords.words('italian'))\n",
    "\n",
    "def drop_stopwords(text: str) -> str:\n",
    "    if not isinstance(text, str):\n",
    "        return \"\"\n",
    "    tokens = word_tokenize(text)\n",
    "    return \" \".join(w for w in tokens if w.lower() not in STOP_WORDS)\n",
    "\n",
    "docs_unique = df_filtered['text'].fillna('').map(drop_stopwords).tolist()\n",
    "\n"
   ]
  },
  {
   "cell_type": "code",
   "execution_count": 4,
   "id": "7d72b4cb",
   "metadata": {},
   "outputs": [
    {
     "name": "stderr",
     "output_type": "stream",
     "text": [
      "100%|██████████| 98/98 [00:00<00:00, 337.53it/s]\n"
     ]
    }
   ],
   "source": [
    "# load the hierarchical topics (you can also recompute them with topic_model.hierarchical_topics(docs_unique) )\n",
    "hierarchical_topics = pd.read_csv(mydir + \"hierarchical_topics.csv\", index_col=0)\n",
    "res = topic_model.hierarchical_topics(docs_unique)\n"
   ]
  },
  {
   "cell_type": "code",
   "execution_count": 6,
   "id": "59519819",
   "metadata": {},
   "outputs": [],
   "source": [
    "# this function cuts a BERTopic hierarchy DataFrame into clusters based on a distance threshold\n",
    "\n",
    "def cut_bertopic_hierarchy(hier_df, threshold, exclude=(-1,)):\n",
    "    # normalize expected column names (handles older hashes like '# ' prefixes)\n",
    "    cols = {c.lower().replace('#','').strip(): c for c in hier_df.columns}\n",
    "    P = cols.get('parent_id') or cols.get('parent')\n",
    "    L = cols.get('child_left_id') or cols.get('left_child')\n",
    "    R = cols.get('child_right_id') or cols.get('right_child')\n",
    "    D = cols.get('distance') or cols.get('dist')\n",
    "\n",
    "    # build child map: node -> (left, right, distance)\n",
    "    child = {}\n",
    "    for r in hier_df[[P, L, R, D]].itertuples(index=False, name=None):\n",
    "        parent, left, right, dist = r\n",
    "        child[parent] = (left, right, float(dist))\n",
    "\n",
    "    # find the root (a parent that is never a child)\n",
    "    all_nodes = set(hier_df[P]).union(hier_df[L]).union(hier_df[R])\n",
    "    child_nodes = set(hier_df[L]).union(hier_df[R])\n",
    "    roots = list(all_nodes - child_nodes)\n",
    "    root = roots[0] if roots else None\n",
    "\n",
    "    def leaves(node):\n",
    "        if node not in child:           # leaf topic id\n",
    "            return [node]\n",
    "        l, r, _ = child[node]\n",
    "        return leaves(l) + leaves(r)\n",
    "\n",
    "    def collect(node):\n",
    "        if node not in child:\n",
    "            return [[node]]\n",
    "        l, r, dist = child[node]\n",
    "        if dist <= threshold:           # cut here → keep everything below as one cluster\n",
    "            return [leaves(node)]\n",
    "        return collect(l) + collect(r)\n",
    "\n",
    "    clusters = collect(root) if root is not None else []\n",
    "    # drop excluded topics and empty clusters\n",
    "    clusters = [[int(t) for t in cl if t not in exclude] for cl in clusters]\n",
    "    return [cl for cl in clusters if cl]\n",
    "\n",
    "# version-safe unpacking\n",
    "if isinstance(res, tuple):\n",
    "    if len(res) == 2:\n",
    "        hier_df, Z = res                    # DataFrame, linkage\n",
    "    elif len(res) == 3:\n",
    "        hier_df, Z, _ = res                 # ignore the 3rd\n",
    "    else:\n",
    "        hier_df, Z = res[0], None\n",
    "else:\n",
    "    hier_df, Z = res, None                  # only DataFrame returned\n",
    "\n",
    "# cut the hierarchy at distance threshold 1, excluding outlier topic -1\n",
    "clusters = cut_bertopic_hierarchy(hier_df, threshold=1, exclude=(-1,))\n",
    "    "
   ]
  },
  {
   "cell_type": "code",
   "execution_count": 7,
   "id": "4c4c57a5",
   "metadata": {},
   "outputs": [
    {
     "name": "stderr",
     "output_type": "stream",
     "text": [
      "100%|██████████| 98/98 [00:00<00:00, 345.64it/s]\n"
     ]
    }
   ],
   "source": [
    "res = topic_model.hierarchical_topics(docs_unique)\n",
    "\n",
    "# version-safe unpacking\n",
    "if isinstance(res, tuple):\n",
    "    if len(res) == 2:\n",
    "        hier_df, Z = res                    # DataFrame, linkage\n",
    "    elif len(res) == 3:\n",
    "        hier_df, Z, _ = res                 # ignore the 3rd\n",
    "    else:\n",
    "        hier_df, Z = res[0], None\n",
    "else:\n",
    "    hier_df, Z = res, None       "
   ]
  },
  {
   "cell_type": "code",
   "execution_count": 8,
   "id": "9cbdb12d",
   "metadata": {},
   "outputs": [],
   "source": [
    "# generate labels for the second-level clusters using an LLM (Cohere in this case)\n",
    "\n",
    "df = pd.read_csv(\"./Results/topics_overview.tsv\", sep='\\t')\n",
    "index = 0 \n",
    "labels = []\n",
    "f_out = open(mydir + \"cluster_labels_second_level.txt\", \"w\")\n",
    "for k in range(len(clusters)):\n",
    "    mystr = ''\n",
    "    for m in range(len(clusters[k])):\n",
    "        mystr = mystr+ (df.iloc[clusters[k][m]]['Label']+'\\n')\n",
    "\n",
    "\n",
    "    co = cohere.ClientV2(api_key=\"tavvrOAs6IOKOHk2XuH7mYSPG8PW0uoRkL4wPXZb\")\n",
    "\n",
    "    # prompt da passare all'LLM. In inglese per cohere perchè il modello funziona meglio in inglese, ma si può modificare il prompt a piacere (anche in italiano)\n",
    "    system_message = f\"\"\"I seguenti topic sono stati raggruppati perché correlati:\\n\"\n",
    "                \"Obiettivo: proponi UNA sola etichetta breve e specifica (5–6 parole, solo sostantivi) \"\n",
    "                \"che descriva al meglio l'insieme dei topic elencati.\"\n",
    "                \"Restituisci solo la label, senza spiegazioni né formattazioni. \"\"\"\n",
    "    prompt =f\"\"\"Topics:{mystr}\"\"\"\n",
    "    \n",
    "    index = index + 1\n",
    "    res = co.chat(\n",
    "        model=\"command-a-03-2025\",\n",
    "        messages=[\n",
    "            {\"role\": \"system\", \"content\": system_message},\n",
    "            {\"role\": \"user\", \"content\": prompt},  \n",
    "\n",
    "        ],\n",
    "    )\n",
    "    f_out.write('Etichetta cluster generata: \\n')\n",
    "    f_out.write(res.message.content[0].text)\n",
    "    f_out.write('\\nA partire dai seguenti topic:')\n",
    "    f_out.write(mystr)\n",
    "    f_out.write('\\n')\n",
    "    labels.append(res.message.content[0].text)\n",
    "\n",
    "    if index %10==0: # ogni 10 richieste, pausa di 60 secondi per rispettare i limiti di frequenza dell'API\n",
    "        time.sleep(60)\n",
    "f_out.close()        \n"
   ]
  },
  {
   "cell_type": "code",
   "execution_count": 10,
   "id": "83e1fd24",
   "metadata": {},
   "outputs": [
    {
     "name": "stdout",
     "output_type": "stream",
     "text": [
      "Macro categoria 1: Servizi Comunitari e Educativi Locali\n",
      "Sotto-categorie:   Gestione Impianti Sportivi, Gestione Spazi Comunitari, Attività Culturali e Spettacoli, Promozione Turistica e Culturale, Promozione della lettura infantile, Sostegno alla Genitorialità, Educazione Civica e Cittadinanza Attiva, Sostegno Attività Estive Minori, Attività Estive Giovanili, Sviluppo e Collaborazione Locale, Supporto e Promozione Familiare, Partecipazione Civica Attiva, Supporto Educativo Scolastico, Servizi educativi per l'infanzia, \n",
      "Macro categoria 2: Servizi Educativi e Welfare Estivo\n",
      "Sotto-categorie:   Attività Estive per Bambini, Gestione Servizi Educativi Estivi, Politiche di Welfare Lavorativo, \n",
      "Macro categoria 3: Servizi educativi e tariffe asili nido\n",
      "Sotto-categorie:   Servizi per l'infanzia, Gestione Tariffe Asili Nido, \n",
      "Macro categoria 4: Servizi di assistenza e cooperazione infantile\n",
      "Sotto-categorie:   Servizi di assistenza all'infanzia, Servizi di Assistenza e Cooperazione, \n",
      "Macro categoria 5: Gestione Rifiuti, Tariffe e Tasse\n",
      "Sotto-categorie:   Gestione Rifiuti e Tasse Locali, Gestione Tariffe e Agevolazioni, Gestione Rifiuti Sanitari, \n",
      "Macro categoria 6: Sostegno Famiglie e Neonati\n",
      "Sotto-categorie:   Sostegno Famiglie e Neonati, Kit di benvenuto per neonati, Sostegno Famiglie con Neonati, \n",
      "Macro categoria 7: Sostegno Familiare e Domestico\n",
      "Sotto-categorie:   Sostegno Neogenitori e Nascita, Sostegno Fornitura Energetica Domestica, \n",
      "Macro categoria 8: Gestione Alloggi e Politiche Abitative\n",
      "Sotto-categorie:   Gestione emergenza profughi, Gestione Alloggi e Abitazioni, Agevolazioni fiscali abitazione, \n",
      "Macro categoria 9: Servizi Assistenza e Inclusione Sociale\n",
      "Sotto-categorie:   Supporto Abitativo Inclusivo Disabili, Assistenza Domiciliare Anziani, Inserimento Lavorativo Categorie Deboli, \n",
      "Macro categoria 10: Gestione Emergenza COVID e Vaccinazioni\n",
      "Sotto-categorie:   Assistenza Abitativa Emergenza COVID, Gestione Vaccinazioni Anticovid, \n",
      "Macro categoria 11: Servizi Sanitari e Pediatrici Farmaceutici\n",
      "Sotto-categorie:   Servizi Sanitari e Farmaceutici, Servizi Sanitari Pediatrici, \n",
      "Macro categoria 12: Prevenzione, Educazione e Salute Sociale\n",
      "Sotto-categorie:   Prevenzione e contrasto bullismo, Prevenzione e contrasto dipendenze, Attività Educative e Sociali, Iniziative contro violenza di genere, Prevenzione e Salute Femminile, \n",
      "Macro categoria 13: Gestione Sostenibile Mobilità e Ambiente\n",
      "Sotto-categorie:   Gestione Percorsi Turistici, Gestione Percorsi Naturalistici, Educazione Ambientale Scolastica, Gestione e Sostenibilità Ambientale, Infrastrutture per Mobilità Ciclistica Sostenibile, Sicurezza Stradale Pedonale, Gestione Aree Verdi Urbane, \n",
      "Macro categoria 14: Gestione Sicurezza Ambientale ed Urbana\n",
      "Sotto-categorie:   Gestione Ambientale ed Energetica, Gestione Sicurezza Camini, Sicurezza e Sorveglianza Urbana, \n",
      "Macro categoria 15: Attività Sportive e Benessere Invernale\n",
      "Sotto-categorie:   Attività per il Benessere Fisico e Mentale, Attività Sportive e Ricreative, Attività Invernali e Skipass, \n",
      "Macro categoria 16: Gestione Strutture Sportive Comunali\n",
      "Sotto-categorie:   Servizi Natatori Agevolati, Gestione Impianti Sportivi e Tariffe, Strutture Sportive Comunali, \n",
      "Macro categoria 17: Servizi Trasporto e Accompagnamento\n",
      "Sotto-categorie:   Agevolazioni Trasporto Turistico, Servizi di Accompagnamento Scolastico, \n",
      "Macro categoria 18: Servizi di Welfare per l'Infanzia\n",
      "Sotto-categorie:   Servizi di Welfare Aziendale, Servizi per l'infanzia, Servizi per Genitori e Bambini, \n",
      "Macro categoria 19: Servizi Digitali e Alfabetizzazione Pubblica\n",
      "Sotto-categorie:   Accesso Internet Pubblico, Servizi Bibliotecari Digitali, Alfabetizzazione Digitale Intergenerazionale, \n",
      "Macro categoria 20: Gestione Servizi Pubblici e Reclami\n",
      "Sotto-categorie:   Gestione Reclami e Segnalazioni, Gestione Orari Uffici Pubblici, \n",
      "Macro categoria 21: Integrazione, Supporto, Formazione, Cittadinanza Attiva\n",
      "Sotto-categorie:   Supporto Organizzativo e Sociale, Integrazione e Cittadinanza Attiva, Formazione Linguistica Specializzata, \n",
      "Macro categoria 22: Assistenza Sociale e Distribuzione Alimenti\n",
      "Sotto-categorie:   Assistenza e Accoglienza Sociale, Distribuzione Alimenti Solidale, \n",
      "Macro categoria 23: Servizi Ambientali e Sociali Comunitari\n",
      "Sotto-categorie:   Gestione Rifiuti e Assistenza Domiciliare, Promozione Educativa e Sociale, \n",
      "Macro categoria 24: Sviluppo Comunitario e Gestione Locale\n",
      "Sotto-categorie:   Gestione Risorse e Spazi Locali, Attività Intergenerazionali Comunitarie, Promozione Attività Giovanili Comunitarie, Eventi Culturali Montani, Attività Motorie e Sportive, Gestione e Valutazione Politiche Pubbliche, Efficienza Energetica Illuminazione, \n",
      "Macro categoria 25: Eventi, Educazione, Turismo Culturale\n",
      "Sotto-categorie:   Eventi Festivi e Ricreativi, Attività Educative e Sociali, Promozione Turistica Culturale, \n",
      "Macro categoria 26: Supporto e Opportunità per Studenti\n",
      "Sotto-categorie:   Formazione e Orientamento Scolastico, Accordi di tirocinio e stage, Sostegno Economico Studenti, \n",
      "Macro categoria 27: Sviluppo e Supporto Comunitario\n",
      "Sotto-categorie:   Sostegno e Sensibilizzazione Comunitaria, Gestione Appalti e Certificazioni, Organizzazione Eventi Comunitari, Promozione Servizi Familiari, \n",
      "Macro categoria 28: Comunicazione e Coinvolgimento Comunitario\n",
      "Sotto-categorie:   Comunicazione e Coinvolgimento Comunitario, Comunicazione e Informazione ai Cittadini, Gestione Comunicazione e Segnalazioni, \n",
      "Macro categoria 29: Gestione Comunicazione Digitale Istituzionale\n",
      "Sotto-categorie:   Gestione Comunicazione Digitale, Comunicazione e Informazione Istituzionale, \n"
     ]
    }
   ],
   "source": [
    "for k in range(len(clusters)):\n",
    "    mystr = ''\n",
    "    print(f\"Macro categoria {k+1}: \" + labels[k])\n",
    "    for m in range(len(clusters[k])):\n",
    "        mystr = mystr+ (df.iloc[clusters[k][m]]['Label']+', ')\n",
    "    print(\"Sotto-categorie:   \" + mystr)"
   ]
  }
 ],
 "metadata": {
  "kernelspec": {
   "display_name": "env_aixpa (3.12.11)",
   "language": "python",
   "name": "python3"
  },
  "language_info": {
   "codemirror_mode": {
    "name": "ipython",
    "version": 3
   },
   "file_extension": ".py",
   "mimetype": "text/x-python",
   "name": "python",
   "nbconvert_exporter": "python",
   "pygments_lexer": "ipython3",
   "version": "3.12.11"
  }
 },
 "nbformat": 4,
 "nbformat_minor": 5
}
