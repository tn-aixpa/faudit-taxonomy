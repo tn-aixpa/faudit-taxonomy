{
 "cells": [
  {
   "cell_type": "code",
   "execution_count": null,
   "id": "678f4130-17c8-4b74-a7bb-363e8e9de452",
   "metadata": {},
   "outputs": [],
   "source": [
    "import digitalhub as dh\n",
    "\n",
    "project = dh.get_or_create_project(\"test-taxonomy\")"
   ]
  },
  {
   "cell_type": "markdown",
   "id": "a3605578-a46b-4990-b3fa-2fd941b5fa8b",
   "metadata": {},
   "source": [
    "## Prepare base artifacts"
   ]
  },
  {
   "cell_type": "code",
   "execution_count": null,
   "id": "413ba861-cd30-44a8-ae30-4155f8d604cc",
   "metadata": {},
   "outputs": [],
   "source": [
    "import pandas as pd \n",
    "\n",
    "di1 = project.log_dataitem('taxonomy_nomi_di_comuni', kind=\"table\", data=pd.read_csv(\"data-P1/nomi_di_comuni.txt\", names=[\"name\"]))\n",
    "di2 = project.log_dataitem('taxonomy_stopwords', kind=\"table\", data=pd.read_csv(\"data-P1/stopwords.txt\", names=[\"word\"]))\n",
    "di3 = project.log_dataitem('taxonomy_termini_specifici', kind=\"table\", data=pd.read_csv(\"data-P1/termini_specifici.txt\", names=[\"termine\"]))"
   ]
  },
  {
   "cell_type": "code",
   "execution_count": null,
   "id": "b5156e72-0c01-48c6-a385-15ccece63f28",
   "metadata": {},
   "outputs": [],
   "source": [
    "import pandas as pd\n",
    "\n",
    "tassonomia_df = pd.read_csv('data-P1/tassonomia_comuni.csv', sep=';')\n",
    "di = project.log_dataitem(name=\"tassonomia_comuni\", kind=\"table\", data=tassonomia_df)"
   ]
  },
  {
   "cell_type": "code",
   "execution_count": null,
   "id": "29306235-ea04-4208-95ab-b3d26cc18ea2",
   "metadata": {},
   "outputs": [],
   "source": [
    "tassonomia_df = pd.read_csv('data-P1/tassonomia_aziende.csv', sep=';')\n",
    "di = project.log_dataitem(name=\"tassonomia_aziende\", kind=\"table\", data=tassonomia_df)"
   ]
  },
  {
   "cell_type": "markdown",
   "id": "19fc6c91-8630-45be-ad92-9411f6052fcb",
   "metadata": {},
   "source": [
    "## Compute azioni comuni"
   ]
  },
  {
   "cell_type": "code",
   "execution_count": null,
   "id": "fa5d0c5c-0653-4254-ba1a-c3d3515dfa72",
   "metadata": {},
   "outputs": [],
   "source": [
    "func = project.new_function(name=\"compute-azioni-comuni\",\n",
    "                            kind=\"python\",\n",
    "                            python_version=\"PYTHON3_10\",\n",
    "                            code_src=\"SuggerimentiComuni.py\",\n",
    "                            handler=\"taxonomy_suggestions\",\n",
    "                            requirements=[\"tqdm==4.66.6\", \"fuzzywuzzy==0.18.0\", \"python-Levenshtein==0.26.1\", \"simplemma==1.1.2\", \"unidecode==1.4.0\"]\n",
    "                           )"
   ]
  },
  {
   "cell_type": "code",
   "execution_count": null,
   "id": "c7b211f2-d0c6-4093-ad51-f73192351b2f",
   "metadata": {},
   "outputs": [],
   "source": [
    "run = func.run(action=\"job\",\n",
    "              inputs={\n",
    "                  'piani_comunali': project.get_dataitem('piani_comunali').key, \n",
    "                  'tassonomia': project.get_dataitem('tassonomia_comuni').key, \n",
    "                  'stopwords': project.get_dataitem('taxonomy_stopwords').key, \n",
    "                  'nomi': project.get_dataitem('taxonomy_nomi_di_comuni').key, \n",
    "                  'termini': project.get_dataitem('taxonomy_termini_specifici').key\n",
    "              },\n",
    "              wait=True)"
   ]
  },
  {
   "cell_type": "markdown",
   "id": "f959eb55-ade5-4b33-a844-b80828278ca8",
   "metadata": {},
   "source": [
    "## Service"
   ]
  },
  {
   "cell_type": "code",
   "execution_count": null,
   "id": "ab2a8e71-4b6e-4f13-a2f7-dcaae0af9b9f",
   "metadata": {},
   "outputs": [],
   "source": [
    "comune_service = project.new_function(\n",
    "        name=\"comune-taxonomy-service\", \n",
    "        kind=\"python\", \n",
    "        python_version=\"PYTHON3_10\", \n",
    "        code_src=\"serve_comuni.py\",     \n",
    "        handler=\"serve\",\n",
    "        init_function=\"init\"\n",
    "    )"
   ]
  },
  {
   "cell_type": "code",
   "execution_count": null,
   "id": "e919d3b6-c73f-4460-9278-78627ccb95c1",
   "metadata": {},
   "outputs": [],
   "source": [
    "serve_run = comune_service.run(\n",
    "    action=\"serve\"\n",
    ")"
   ]
  },
  {
   "cell_type": "code",
   "execution_count": null,
   "id": "7bf98626-a179-41e4-84c5-bb03aaca74e5",
   "metadata": {},
   "outputs": [],
   "source": [
    "import requests\n",
    "\n",
    "service_url = serve_run.refresh().status.service[\"url\"]\n",
    "\n",
    "res = requests.get(f\"http://{service_url}/to_delete?threshold=3\")\n",
    "res.text"
   ]
  },
  {
   "cell_type": "code",
   "execution_count": null,
   "id": "a0996d0f-bd72-46e0-a804-fd0b5bee546b",
   "metadata": {},
   "outputs": [],
   "source": [
    "res = requests.get(f\"http://{service_url}/to_split?threshold=500\")\n",
    "res.text"
   ]
  },
  {
   "cell_type": "code",
   "execution_count": null,
   "id": "13f3fb45-3957-4b99-a776-428142c6b58a",
   "metadata": {
    "scrolled": true
   },
   "outputs": [],
   "source": [
    "res = requests.get(f\"http://{service_url}/to_merge\")\n",
    "res.text"
   ]
  },
  {
   "cell_type": "markdown",
   "id": "f3e89fbf-7655-4a5e-aa2e-30d829bd4779",
   "metadata": {},
   "source": [
    "## Compute Azioni aziende"
   ]
  },
  {
   "cell_type": "code",
   "execution_count": null,
   "id": "86e2fc8c-6c7a-4cd8-945a-5b36e9cfe4c9",
   "metadata": {},
   "outputs": [],
   "source": [
    "func = project.new_function(name=\"compute-azioni-aziende\",\n",
    "                            kind=\"python\",\n",
    "                            python_version=\"PYTHON3_10\",\n",
    "                            code_src=\"SuggerimentiAziende.py\",\n",
    "                            handler=\"taxonomy_suggestions\",\n",
    "                            requirements=[\"tqdm==4.66.6\", \"fuzzywuzzy==0.18.0\", \"python-Levenshtein==0.26.1\", \"simplemma==1.1.2\", \"unidecode==1.4.0\"]\n",
    "                           )"
   ]
  },
  {
   "cell_type": "code",
   "execution_count": null,
   "id": "1e1c2b78-ce96-48f0-8a6c-0f8d2e5132b3",
   "metadata": {},
   "outputs": [],
   "source": [
    "run = func.run(action=\"job\",\n",
    "              inputs={\n",
    "                  'piani_aziendali': project.get_dataitem('piani_aziendali').key, \n",
    "                  'tassonomia': project.get_dataitem('tassonomia_aziende').key, \n",
    "                  'stopwords': project.get_dataitem('taxonomy_stopwords').key, \n",
    "                  'nomi': project.get_dataitem('taxonomy_nomi_di_comuni').key, \n",
    "                  'termini': project.get_dataitem('taxonomy_termini_specifici').key\n",
    "              },\n",
    "              wait=True)"
   ]
  },
  {
   "cell_type": "markdown",
   "id": "28d47c70-52db-4434-9ccf-9e5e8d951a24",
   "metadata": {},
   "source": [
    "## Service"
   ]
  },
  {
   "cell_type": "code",
   "execution_count": null,
   "id": "188eab24-9f87-422d-8739-36fe040c0f0d",
   "metadata": {},
   "outputs": [],
   "source": [
    "aziende_service = project.new_function(\n",
    "        name=\"aziende-taxonomy-service\", \n",
    "        kind=\"python\", \n",
    "        python_version=\"PYTHON3_10\", \n",
    "        code_src=\"serve_aziende.py\",     \n",
    "        handler=\"serve\",\n",
    "        init_function=\"init\"\n",
    "    )"
   ]
  },
  {
   "cell_type": "code",
   "execution_count": null,
   "id": "8c3b3c2d-fa77-4057-bc29-01f23c36dc64",
   "metadata": {},
   "outputs": [],
   "source": [
    "serve_run = aziende_service.run(\n",
    "    action=\"serve\"\n",
    ")"
   ]
  },
  {
   "cell_type": "code",
   "execution_count": null,
   "id": "bfa0147d-001c-4f23-a54a-591374522aaf",
   "metadata": {},
   "outputs": [],
   "source": [
    "import requests\n",
    "\n",
    "service_url = serve_run.refresh().status.service[\"url\"]\n",
    "\n",
    "res = requests.get(f\"http://{service_url}/to_delete?frequency_threshold=3\")\n",
    "res.text"
   ]
  },
  {
   "cell_type": "code",
   "execution_count": null,
   "id": "d99ed2c4-de6b-4afb-beca-b53ffac5da77",
   "metadata": {
    "scrolled": true
   },
   "outputs": [],
   "source": [
    "res = requests.get(f\"http://{service_url}/to_split?frequency_threshold=500\")\n",
    "res.text"
   ]
  },
  {
   "cell_type": "code",
   "execution_count": null,
   "id": "6d1fdfca-1e1d-4155-be53-f35ddb9226b1",
   "metadata": {
    "scrolled": true
   },
   "outputs": [],
   "source": [
    "res = requests.get(f\"http://{service_url}/to_merge\")\n",
    "res.text"
   ]
  }
 ],
 "metadata": {
  "kernelspec": {
   "display_name": "Python 3 (ipykernel)",
   "language": "python",
   "name": "python3"
  },
  "language_info": {
   "codemirror_mode": {
    "name": "ipython",
    "version": 3
   },
   "file_extension": ".py",
   "mimetype": "text/x-python",
   "name": "python",
   "nbconvert_exporter": "python",
   "pygments_lexer": "ipython3",
   "version": "3.10.11"
  }
 },
 "nbformat": 4,
 "nbformat_minor": 5
}
