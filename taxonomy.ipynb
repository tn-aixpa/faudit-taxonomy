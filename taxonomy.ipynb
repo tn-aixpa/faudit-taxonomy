{
 "cells": [
  {
   "cell_type": "code",
   "execution_count": 1,
   "id": "678f4130-17c8-4b74-a7bb-363e8e9de452",
   "metadata": {},
   "outputs": [],
   "source": [
    "import digitalhub as dh\n",
    "\n",
    "project = dh.get_or_create_project(\"test-taxonomy\")"
   ]
  },
  {
   "cell_type": "markdown",
   "id": "a3605578-a46b-4990-b3fa-2fd941b5fa8b",
   "metadata": {},
   "source": [
    "## Prepare base artifacts"
   ]
  },
  {
   "cell_type": "code",
   "execution_count": 12,
   "id": "413ba861-cd30-44a8-ae30-4155f8d604cc",
   "metadata": {},
   "outputs": [
    {
     "data": {
      "text/plain": [
       "{'kind': 'table', 'metadata': {'project': 'test-taxonomy', 'name': 'taxonomy_termini_specifici', 'version': '1f68fd3bd03b4e9baeec2f7498b7c0b2', 'created': '2025-09-03T13:39:40.517Z', 'updated': '2025-09-03T13:39:40.679Z', 'created_by': 'raman@fbk.eu', 'updated_by': 'raman@fbk.eu', 'embedded': False}, 'spec': {'path': 's3://datalake/test-taxonomy/dataitem/taxonomy_termini_specifici/1f68fd3bd03b4e9baeec2f7498b7c0b2/taxonomy-termini-specifici.parquet', 'schema': {'fields': [{'name': 'termine', 'type': 'string'}]}}, 'status': {'state': 'READY', 'files': [{'path': 'taxonomy-termini-specifici.parquet', 'name': 'taxonomy-termini-specifici.parquet', 'content_type': 'binary/octet-stream', 'size': 1984, 'hash': 'md5:6c8c5277eaefab1a1523077d92f5c05d', 'last_modified': '2025-09-03T13:39:40+00:00'}], 'preview': {'cols': [{'name': 'termine', 'value': ['asilo', 'attività', 'attivitа', 'autostima', 'allattamento', 'azione', 'aiesec', 'alcolismo', 'biotopo', 'barchi']}], 'rows': 82}}, 'user': 'raman@fbk.eu', 'project': 'test-taxonomy', 'name': 'taxonomy_termini_specifici', 'id': '1f68fd3bd03b4e9baeec2f7498b7c0b2', 'key': 'store://test-taxonomy/dataitem/table/taxonomy_termini_specifici:1f68fd3bd03b4e9baeec2f7498b7c0b2'}"
      ]
     },
     "execution_count": 12,
     "metadata": {},
     "output_type": "execute_result"
    }
   ],
   "source": [
    "import pandas as pd \n",
    "\n",
    "project.log_dataitem('taxonomy_nomi_di_comuni', kind=\"table\", data=pd.read_csv(\"data-P1/nomi_di_comuni.txt\", names=[\"name\"]))\n",
    "project.log_dataitem('taxonomy_stopwords', kind=\"table\", data=pd.read_csv(\"data-P1/stopwords.txt\", names=[\"word\"]))\n",
    "project.log_dataitem('taxonomy_termini_specifici', kind=\"table\", data=pd.read_csv(\"data-P1/termini_specifici.txt\", names=[\"termine\"]))"
   ]
  },
  {
   "cell_type": "code",
   "execution_count": 5,
   "id": "b5156e72-0c01-48c6-a385-15ccece63f28",
   "metadata": {},
   "outputs": [
    {
     "data": {
      "text/plain": [
       "{'kind': 'table', 'metadata': {'project': 'test-taxonomy', 'name': 'tassonomia_comuni', 'version': '024862365af4482fbeb96ecca6c2c75c', 'created': '2025-09-03T13:25:58.264Z', 'updated': '2025-09-03T13:25:58.362Z', 'created_by': 'raman@fbk.eu', 'updated_by': 'raman@fbk.eu', 'embedded': False}, 'spec': {'path': 's3://datalake/test-taxonomy/dataitem/tassonomia_comuni/024862365af4482fbeb96ecca6c2c75c/tassonomia-comuni.parquet', 'schema': {'fields': [{'name': 'ID_tassonomia', 'type': 'integer'}, {'name': 'azione', 'type': 'string'}, {'name': 'codice_macro', 'type': 'string'}, {'name': 'descrizione_macroambito', 'type': 'string'}, {'name': 'codice_campo', 'type': 'integer'}, {'name': 'descrizione_codice_campo', 'type': 'string'}, {'name': 'codice', 'type': 'string'}]}}, 'status': {'state': 'READY', 'files': [{'path': 'tassonomia-comuni.parquet', 'name': 'tassonomia-comuni.parquet', 'content_type': 'binary/octet-stream', 'size': 10318, 'hash': 'md5:5e87f7a797119e97f0541128db963739', 'last_modified': '2025-09-03T13:25:58+00:00'}], 'preview': {'cols': [{'name': 'ID_tassonomia', 'value': [1, 3, 4, 5, 6, 8, 9, 11, 12, 15]}, {'name': 'azione', 'value': ['Promozione strumenti ACS (Family Audit, Family in Trentino, Network nazionale, Distretto Famiglia, EuregioFamilyPass, Family in Italia)', 'Adesione  ai marchi familiari', 'Creazione nuovi disciplinari family ', 'Sistemi premianti', 'Convenzioni per la pianificazione e la realizzazione di attivitа', 'Partecipazione e promozione di eventi organizzati da ACS (Convention Comuni, Meeting Distretti, Festival della famiglia ecc.)', 'Interventi per rafforzare la rete', 'Adesione/supporto al piano giovani', 'Istituzione/coinvolgimento della consulta per la famiglia', 'Co-progettazione attivitа del progetto strategico del Distretto famiglia']}, {'name': 'codice_macro', 'value': ['A', 'A', 'A', 'A', 'A', 'A', 'A', 'A', 'A', 'A']}, {'name': 'descrizione_macroambito', 'value': ['Governance e azioni di rete', 'Governance e azioni di rete', 'Governance e azioni di rete', 'Governance e azioni di rete', 'Governance e azioni di rete', 'Governance e azioni di rete', 'Governance e azioni di rete', 'Governance e azioni di rete', 'Governance e azioni di rete', 'Governance e azioni di rete']}, {'name': 'codice_campo', 'value': [1, 1, 1, 1, 1, 2, 2, 2, 2, 3]}, {'name': 'descrizione_codice_campo', 'value': ['Promozione e supporto certificazioni family', 'Promozione e supporto certificazioni family', 'Promozione e supporto certificazioni family', 'Promozione e supporto certificazioni family', 'Promozione e supporto certificazioni family', 'Azioni di rete e sussidiarietа', 'Azioni di rete e sussidiarietа', 'Azioni di rete e sussidiarietа', 'Azioni di rete e sussidiarietа', 'Progettazione e monitoraggio']}, {'name': 'codice', 'value': ['A01-0104', 'A01-0112', 'A01-0116', 'A01-0120', 'A01-0124', 'A02-0204', 'A02-0208', 'A02-0216', 'A02-0220', 'A03-0304']}], 'rows': 91}}, 'user': 'raman@fbk.eu', 'project': 'test-taxonomy', 'name': 'tassonomia_comuni', 'id': '024862365af4482fbeb96ecca6c2c75c', 'key': 'store://test-taxonomy/dataitem/table/tassonomia_comuni:024862365af4482fbeb96ecca6c2c75c'}"
      ]
     },
     "execution_count": 5,
     "metadata": {},
     "output_type": "execute_result"
    }
   ],
   "source": [
    "import pandas as pd\n",
    "\n",
    "tassonomia_df = pd.read_csv('data-P1/tassonomia_comuni.csv', sep=';')\n",
    "project.log_dataitem(name=\"tassonomia_comuni\", kind=\"table\", data=tassonomia_df)"
   ]
  },
  {
   "cell_type": "code",
   "execution_count": 6,
   "id": "29306235-ea04-4208-95ab-b3d26cc18ea2",
   "metadata": {},
   "outputs": [
    {
     "data": {
      "text/plain": [
       "{'kind': 'table', 'metadata': {'project': 'test-taxonomy', 'name': 'tassonomia_aziende', 'version': 'dc83cb965221458a87ebac4375ce7386', 'created': '2025-09-03T13:27:21.097Z', 'updated': '2025-09-03T13:27:21.196Z', 'created_by': 'raman@fbk.eu', 'updated_by': 'raman@fbk.eu', 'embedded': False}, 'spec': {'path': 's3://datalake/test-taxonomy/dataitem/tassonomia_aziende/dc83cb965221458a87ebac4375ce7386/tassonomia-aziende.parquet', 'schema': {'fields': [{'name': 'ID_tassonomia', 'type': 'integer'}, {'name': 'azione', 'type': 'string'}, {'name': 'codice_macro', 'type': 'string'}, {'name': 'descrizione_macroambito', 'type': 'string'}, {'name': 'codice_campo', 'type': 'integer'}, {'name': 'descrizione_codice_campo', 'type': 'string'}, {'name': 'codice', 'type': 'string'}, {'name': \"Frequenza di utilizzo dell'azione\", 'type': 'integer'}]}}, 'status': {'state': 'READY', 'files': [{'path': 'tassonomia-aziende.parquet', 'name': 'tassonomia-aziende.parquet', 'content_type': 'binary/octet-stream', 'size': 13909, 'hash': 'md5:41d371cb8a60cfbad56eb2ef42ae37ae', 'last_modified': '2025-09-03T13:27:21+00:00'}], 'preview': {'cols': [{'name': 'ID_tassonomia', 'value': [11630707, 11630708, 11630709, 11630710, 11630711, 11630712, 11630713, 11630714, 11630715, 11630716]}, {'name': 'azione', 'value': ['Orari: regolamentazione', 'Orari: modifica orario di funzionamento della struttura', 'Orari: turnistica', 'Orari: organizzazione ad isole', 'Orari: programmazione', 'Orario personalizzato', 'Flessibilità: entrata e uscita', 'Flessibilità: pausa pranzo', 'Flessibilità: settimanale o su periodi più lunghi', 'Banca delle ore']}, {'name': 'codice_macro', 'value': ['A', 'A', 'A', 'A', 'A', 'A', 'A', 'A', 'A', 'A']}, {'name': 'descrizione_macroambito', 'value': [\"{'Misure economiche', 'Governance e azioni di rete', 'Informazione e comunicazione'}\", \"{'Informazione e comunicazione', 'Governance e azioni di rete', 'Welfare territoriale e sostenibilitа'}\", \"{'Governance e azioni di rete', 'Comunitа educante'}\", \"{'Governance e azioni di rete'}\", \"{'Misure economiche', 'Governance e azioni di rete'}\", \"{'Misure economiche', 'Governance e azioni di rete'}\", \"{'Governance e azioni di rete'}\", \"{'Informazione e comunicazione', 'Governance e azioni di rete'}\", \"{'Governance e azioni di rete'}\", \"{'Governance e azioni di rete', 'Comunitа educante'}\"]}, {'name': 'codice_campo', 'value': [1, 1, 1, 1, 1, 1, 1, 1, 1, 1]}, {'name': 'descrizione_codice_campo', 'value': [\"{'Benefit e scontistica', 'Agevolazioni e contributi', 'Azioni di rete e sussidiarietа', 'Progettazione e monitoraggio', 'Promozione e supporto certificazioni family', 'Comunicazione'}\", \"{'Azioni di rete e sussidiarietа', 'Promozione e supporto certificazioni family', 'Comunicazione', 'Progetti per protagonismo dei giovani'}\", \"{'Progettazione e monitoraggio', 'Azioni di rete e sussidiarietа', 'Promozione e supporto certificazioni family', 'Formazione'}\", \"{'Azioni di rete e sussidiarietа', 'Promozione e supporto certificazioni family'}\", \"{'Azioni di rete e sussidiarietа', 'Promozione e supporto certificazioni family', 'Benefit e scontistica'}\", \"{'Benefit e scontistica', 'Sport', 'Azioni di rete e sussidiarietа', 'Progettazione e monitoraggio', 'Promozione e supporto certificazioni family'}\", \"{'Azioni di rete e sussidiarietа', 'Promozione e supporto certificazioni family'}\", \"{'Promozione e supporto certificazioni family', 'Comunicazione'}\", \"{'Promozione e supporto certificazioni family'}\", \"{'Promozione e supporto certificazioni family'}\"]}, {'name': 'codice', 'value': ['A01-103', 'A01-106', 'A01-109', 'A01-112', 'A01-115', 'A01-118', 'A01-121', 'A01-124', 'A01-127', 'A01-130']}, {'name': \"Frequenza di utilizzo dell'azione\", 'value': [510, 149, 275, 36, 104, 245, 617, 286, 164, 348]}], 'rows': 143}}, 'user': 'raman@fbk.eu', 'project': 'test-taxonomy', 'name': 'tassonomia_aziende', 'id': 'dc83cb965221458a87ebac4375ce7386', 'key': 'store://test-taxonomy/dataitem/table/tassonomia_aziende:dc83cb965221458a87ebac4375ce7386'}"
      ]
     },
     "execution_count": 6,
     "metadata": {},
     "output_type": "execute_result"
    }
   ],
   "source": [
    "tassonomia_df = pd.read_csv('data-P1/tassonomia_aziende.csv', sep=';')\n",
    "project.log_dataitem(name=\"tassonomia_aziende\", kind=\"table\", data=tassonomia_df)"
   ]
  },
  {
   "cell_type": "markdown",
   "id": "19fc6c91-8630-45be-ad92-9411f6052fcb",
   "metadata": {},
   "source": [
    "## Compute azioni comuni"
   ]
  },
  {
   "cell_type": "code",
   "execution_count": 26,
   "id": "fa5d0c5c-0653-4254-ba1a-c3d3515dfa72",
   "metadata": {},
   "outputs": [],
   "source": [
    "func = project.new_function(name=\"compute_azioni_comuni\",\n",
    "                            kind=\"python\",\n",
    "                            python_version=\"PYTHON3_10\",\n",
    "                            code_src=\"SuggerimentiComuni.py\",\n",
    "                            handler=\"taxonomy_suggestions\",\n",
    "                            requirements=[\"tqdm==4.66.6\", \"fuzzywuzzy==0.18.0\", \"python-Levenshtein==0.26.1\", \"simplemma==1.1.2\", \"unidecode==1.4.0\"]\n",
    "                           )"
   ]
  },
  {
   "cell_type": "code",
   "execution_count": 27,
   "id": "c7b211f2-d0c6-4093-ad51-f73192351b2f",
   "metadata": {},
   "outputs": [
    {
     "name": "stderr",
     "output_type": "stream",
     "text": [
      "2025-09-03 14:01:16,351 - INFO - Waiting for run 4dd07805fc144c24842d5f4cf2f0e95c to finish...\n",
      "2025-09-03 14:01:21,407 - INFO - Waiting for run 4dd07805fc144c24842d5f4cf2f0e95c to finish...\n",
      "2025-09-03 14:01:26,430 - INFO - Waiting for run 4dd07805fc144c24842d5f4cf2f0e95c to finish...\n",
      "2025-09-03 14:01:31,463 - INFO - Waiting for run 4dd07805fc144c24842d5f4cf2f0e95c to finish...\n",
      "2025-09-03 14:01:36,507 - INFO - Waiting for run 4dd07805fc144c24842d5f4cf2f0e95c to finish...\n",
      "2025-09-03 14:01:41,531 - INFO - Waiting for run 4dd07805fc144c24842d5f4cf2f0e95c to finish...\n",
      "2025-09-03 14:01:46,558 - INFO - Waiting for run 4dd07805fc144c24842d5f4cf2f0e95c to finish...\n",
      "2025-09-03 14:01:51,578 - INFO - Waiting for run 4dd07805fc144c24842d5f4cf2f0e95c to finish...\n",
      "2025-09-03 14:01:56,600 - INFO - Waiting for run 4dd07805fc144c24842d5f4cf2f0e95c to finish...\n",
      "2025-09-03 14:02:01,637 - INFO - Waiting for run 4dd07805fc144c24842d5f4cf2f0e95c to finish...\n",
      "2025-09-03 14:02:06,659 - INFO - Waiting for run 4dd07805fc144c24842d5f4cf2f0e95c to finish...\n",
      "2025-09-03 14:02:11,691 - INFO - Waiting for run 4dd07805fc144c24842d5f4cf2f0e95c to finish...\n",
      "2025-09-03 14:02:16,711 - INFO - Waiting for run 4dd07805fc144c24842d5f4cf2f0e95c to finish...\n",
      "2025-09-03 14:02:21,731 - INFO - Run 4dd07805fc144c24842d5f4cf2f0e95c finished in 65.38 seconds.\n"
     ]
    }
   ],
   "source": [
    "run = func.run(action=\"job\",\n",
    "              inputs={\n",
    "                  'piani_comunali': project.get_dataitem('piani_comunali').key, \n",
    "                  'tassonomia': project.get_dataitem('tassonomia_comuni').key, \n",
    "                  'stopwords': project.get_dataitem('taxonomy_stopwords').key, \n",
    "                  'nomi': project.get_dataitem('taxonomy_nomi_di_comuni').key, \n",
    "                  'termini': project.get_dataitem('taxonomy_termini_specifici').key\n",
    "              },\n",
    "              parameters={'soglia': 3, 'soglia_utilizzo': 10},\n",
    "              wait=True)"
   ]
  }
 ],
 "metadata": {
  "kernelspec": {
   "display_name": "Python 3 (ipykernel)",
   "language": "python",
   "name": "python3"
  },
  "language_info": {
   "codemirror_mode": {
    "name": "ipython",
    "version": 3
   },
   "file_extension": ".py",
   "mimetype": "text/x-python",
   "name": "python",
   "nbconvert_exporter": "python",
   "pygments_lexer": "ipython3",
   "version": "3.10.11"
  }
 },
 "nbformat": 4,
 "nbformat_minor": 5
}
